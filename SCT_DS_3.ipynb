{
  "nbformat": 4,
  "nbformat_minor": 0,
  "metadata": {
    "colab": {
      "provenance": [],
      "authorship_tag": "ABX9TyOrZPwCdmCWLNJ0CUYiU1WT",
      "include_colab_link": true
    },
    "kernelspec": {
      "name": "python3",
      "display_name": "Python 3"
    },
    "language_info": {
      "name": "python"
    }
  },
  "cells": [
    {
      "cell_type": "markdown",
      "metadata": {
        "id": "view-in-github",
        "colab_type": "text"
      },
      "source": [
        "<a href=\"https://colab.research.google.com/github/sanjana110404/SCT_DS_1/blob/main/SCT_DS_3.ipynb\" target=\"_parent\"><img src=\"https://colab.research.google.com/assets/colab-badge.svg\" alt=\"Open In Colab\"/></a>"
      ]
    },
    {
      "cell_type": "code",
      "execution_count": 13,
      "metadata": {
        "id": "qj5bwwp6UV7t"
      },
      "outputs": [],
      "source": [
        "import pandas as pd\n",
        "\n",
        "# Sample data similar to the Bank Marketing dataset\n",
        "data = {\n",
        "    'age': [30, 33, 35, 40, 59, 61, 37, 42, 30, 23],\n",
        "    'job': ['admin.', 'technician', 'management', 'blue-collar', 'retired', 'retired', 'services', 'management', 'blue-collar', 'student'],\n",
        "    'marital': ['married', 'married', 'single', 'married', 'married', 'married', 'married', 'married', 'single', 'single'],\n",
        "    'education': ['university.degree', 'high.school', 'high.school', 'basic.9y', 'university.degree', 'high.school', 'high.school', 'basic.9y', 'basic.6y', 'university.degree'],\n",
        "    'default': ['no', 'no', 'no', 'no', 'no', 'no', 'no', 'no', 'no', 'no'],\n",
        "    'balance': [1787, 4789, 1350, 1476, 0, 0, 231, 0, 147, 0],\n",
        "    'housing': ['yes', 'yes', 'yes', 'yes', 'no', 'no', 'yes', 'yes', 'no', 'no'],\n",
        "    'loan': ['no', 'yes', 'no', 'no', 'no', 'no', 'yes', 'no', 'no', 'no'],\n",
        "    'contact': ['cellular', 'cellular', 'cellular', 'cellular', 'cellular', 'cellular', 'cellular', 'cellular', 'cellular', 'cellular'],\n",
        "    'day': [19, 11, 16, 3, 5, 5, 20, 17, 30, 25],\n",
        "    'month': ['oct', 'may', 'apr', 'jun', 'jul', 'jul', 'aug', 'nov', 'apr', 'jun'],\n",
        "    'duration': [79, 220, 185, 199, 226, 141, 341, 176, 203, 246],\n",
        "    'campaign': [1, 1, 1, 4, 1, 1, 1, 3, 4, 2],\n",
        "    'pdays': [3, 999, 999, 999, 999, 999, 999, 999, 999, 999],\n",
        "    'previous': [0, 0, 0, 0, 0, 0, 0, 0, 0, 0],\n",
        "    'poutcome': ['unknown', 'unknown', 'unknown', 'unknown', 'unknown', 'unknown', 'unknown', 'unknown', 'unknown', 'unknown'],\n",
        "    'y': ['no', 'no', 'no', 'no', 'no', 'no', 'yes', 'no', 'no', 'no']\n",
        "}\n",
        "\n",
        "df = pd.DataFrame(data)\n"
      ]
    },
    {
      "cell_type": "code",
      "source": [
        "from sklearn.preprocessing import LabelEncoder\n",
        "\n",
        "# Encode categorical variables\n",
        "label_encoders = {}\n",
        "for column in df.select_dtypes(include=['object']).columns:\n",
        "    le = LabelEncoder()\n",
        "    df[column] = le.fit_transform(df[column])\n",
        "    label_encoders[column] = le\n",
        "\n",
        "# Split the data into features and target\n",
        "X = df.drop('y', axis=1)\n",
        "y = df['y']\n",
        "\n",
        "# Ensure that the split contains at least one sample from each class\n",
        "X_train = X.iloc[:-2]\n",
        "X_test = X.iloc[-2:]\n",
        "y_train = y.iloc[:-2]\n",
        "y_test = y.iloc[-2:]\n"
      ],
      "metadata": {
        "id": "cREgATTZUXXY"
      },
      "execution_count": 14,
      "outputs": []
    },
    {
      "cell_type": "code",
      "source": [
        "from sklearn.tree import DecisionTreeClassifier\n",
        "\n",
        "# Initialize the classifier\n",
        "clf = DecisionTreeClassifier(random_state=42)\n",
        "\n",
        "# Train the classifier\n",
        "clf.fit(X_train, y_train)\n",
        "\n",
        "# Make predictions\n",
        "y_pred = clf.predict(X_test)\n"
      ],
      "metadata": {
        "id": "4IA54VVlUeOj"
      },
      "execution_count": 15,
      "outputs": []
    },
    {
      "cell_type": "code",
      "source": [
        "from sklearn.metrics import accuracy_score, classification_report, confusion_matrix\n",
        "\n",
        "# Evaluate the model\n",
        "accuracy = accuracy_score(y_test, y_pred)\n",
        "report = classification_report(y_test, y_pred, zero_division=1)\n",
        "\n",
        "print(f\"Accuracy: {accuracy}\")\n",
        "print(f\"Classification Report:\\n{report}\")\n",
        "\n",
        "# Optional: Print confusion matrix for more insight\n",
        "conf_matrix = confusion_matrix(y_test, y_pred)\n",
        "print(f\"Confusion Matrix:\\n{conf_matrix}\")\n"
      ],
      "metadata": {
        "colab": {
          "base_uri": "https://localhost:8080/"
        },
        "id": "iiGoNcpxUj7Y",
        "outputId": "77c19707-a3cd-4e29-b80b-d9df047521dc"
      },
      "execution_count": 16,
      "outputs": [
        {
          "output_type": "stream",
          "name": "stdout",
          "text": [
            "Accuracy: 0.0\n",
            "Classification Report:\n",
            "              precision    recall  f1-score   support\n",
            "\n",
            "           0       1.00      0.00      0.00       2.0\n",
            "           1       0.00      1.00      0.00       0.0\n",
            "\n",
            "    accuracy                           0.00       2.0\n",
            "   macro avg       0.50      0.50      0.00       2.0\n",
            "weighted avg       1.00      0.00      0.00       2.0\n",
            "\n",
            "Confusion Matrix:\n",
            "[[0 2]\n",
            " [0 0]]\n"
          ]
        }
      ]
    }
  ]
}